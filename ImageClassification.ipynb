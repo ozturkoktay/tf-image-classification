{
  "nbformat": 4,
  "nbformat_minor": 2,
  "metadata": {
    "kernelspec": {
      "name": "python3",
      "display_name": "Python 3.7.9 64-bit"
    },
    "colab": {
      "name": "train-test_models.ipynb",
      "provenance": [],
      "collapsed_sections": []
    },
    "language_info": {
      "name": "python",
      "version": "3.7.9"
    },
    "accelerator": "GPU",
    "interpreter": {
      "hash": "767d51c1340bd893661ea55ea3124f6de3c7a262a8b4abca0554b478b1e2ff90"
    }
  },
  "cells": [
    {
      "cell_type": "code",
      "execution_count": null,
      "source": [
        "import tensorflow as tf\n",
        "import numpy as np\n",
        "import torch\n",
        "import matplotlib.pyplot as plt\n",
        "import matplotlib.ticker as mticker\n",
        "from keras import Model, layers\n",
        "from sklearn.metrics import classification_report, confusion_matrix\n",
        "from imutils import paths\n",
        "from tensorflow.keras.preprocessing.image import ImageDataGenerator\n",
        "from google.colab import drive"
      ],
      "outputs": [
        {
          "output_type": "stream",
          "name": "stdout",
          "text": [
            "2.6.0\n"
          ]
        }
      ],
      "metadata": {
        "id": "p_1AU2axBiL8",
        "colab": {
          "base_uri": "https://localhost:8080/"
        },
        "outputId": "b70c3b41-9aef-47cb-e737-4bc634572ca0"
      }
    },
    {
      "cell_type": "code",
      "execution_count": null,
      "source": [
        "device_name = tf.test.gpu_device_name()\n",
        "if device_name == '/device:GPU:0':\n",
        "    device = torch.device(\"cuda\")\n",
        "    print('GPU:', torch.cuda.get_device_name(0))\n",
        "else:\n",
        "    raise SystemError('GPU device not found')"
      ],
      "outputs": [
        {
          "output_type": "stream",
          "name": "stdout",
          "text": [
            "GPU: Tesla K80\n"
          ]
        }
      ],
      "metadata": {
        "id": "jBauU3YwByz3",
        "colab": {
          "base_uri": "https://localhost:8080/"
        },
        "outputId": "42468f48-0381-447e-cfbb-fa22f995c248"
      }
    },
    {
      "cell_type": "code",
      "execution_count": null,
      "source": [
        "try:\n",
        "    drive.mount('/content/drive')\n",
        "except:\n",
        "    print(\"You are not working in Colab at the moment :(\")"
      ],
      "outputs": [
        {
          "output_type": "stream",
          "name": "stdout",
          "text": [
            "Mounted at /content/drive\n"
          ]
        }
      ],
      "metadata": {
        "id": "wjaGFdZBB1DW",
        "colab": {
          "base_uri": "https://localhost:8080/"
        },
        "outputId": "9da33d94-0a3b-441b-89e4-e7b1ebb6f7f7"
      }
    },
    {
      "cell_type": "code",
      "execution_count": null,
      "source": [
        "gpus = tf.config.experimental.list_physical_devices('GPU')\n",
        "if gpus:\n",
        "  try:\n",
        "    tf.config.experimental.set_memory_growth(gpus[0], True)\n",
        "  except RuntimeError as e:\n",
        "    print(e)"
      ],
      "outputs": [],
      "metadata": {
        "id": "qcOPtnAABiMJ"
      }
    },
    {
      "cell_type": "code",
      "execution_count": null,
      "source": [
        "EPOCHS = 30\n",
        "CLASSES = 2\n",
        "BATCH_SIZE = 8\n",
        "IMG_WIDTH = 240\n",
        "IMG_HEIGHT = 240"
      ],
      "outputs": [],
      "metadata": {
        "id": "Y09WPc6HRhb_"
      }
    },
    {
      "cell_type": "code",
      "execution_count": null,
      "source": [
        "\n",
        "TRAIN_PATH = '/tmp/train'\n",
        "VAL_PATH = '/tmp/val'\n",
        "TEST_PATH = '/tmp/test'\n",
        "\n",
        "total_train_data = len(list(paths.list_images(TRAIN_PATH)))\n",
        "total_val_data = len(list(paths.list_images(VAL_PATH)))\n",
        "total_test_data = len(list(paths.list_images(TEST_PATH)))\n",
        "\n",
        "train_datagen = ImageDataGenerator(rescale=1 / 255.0,\n",
        "                                   rotation_range=360,\n",
        "                                   width_shift_range=[-10,10],\n",
        "                                   height_shift_range=[-10,10],\n",
        "                                   shear_range=0.2,\n",
        "                                   #zoom_range=0.2,\n",
        "                                   brightness_range=[1.0, 5.0],\n",
        "                                   horizontal_flip=True,\n",
        "                                   vertical_flip=True,\n",
        "                                   fill_mode='nearest')\n",
        "\n",
        "train_data = train_datagen.flow_from_directory(\n",
        "    TRAIN_PATH,\n",
        "    class_mode=\"binary\",\n",
        "    target_size=(IMG_WIDTH, IMG_HEIGHT),\n",
        "    color_mode=\"rgb\",\n",
        "    shuffle=True,\n",
        "    batch_size=BATCH_SIZE)\n",
        "\n",
        "\n",
        "val_datagen = ImageDataGenerator(rescale=1 / 255.0)\n",
        "validation_data = val_datagen.flow_from_directory(\n",
        "    VAL_PATH,\n",
        "    class_mode=\"binary\",\n",
        "    target_size=(IMG_WIDTH, IMG_HEIGHT),\n",
        "    color_mode=\"rgb\",\n",
        "    shuffle=True,\n",
        "    batch_size=BATCH_SIZE)\n",
        "\n",
        "test_datagen = ImageDataGenerator(rescale=1 / 255.0)\n",
        "test_data = test_datagen.flow_from_directory(\n",
        "    TEST_PATH,\n",
        "    class_mode=\"binary\",\n",
        "    target_size=(IMG_WIDTH, IMG_HEIGHT),\n",
        "    color_mode=\"rgb\",\n",
        "    shuffle=False,\n",
        "    batch_size=BATCH_SIZE)\n",
        "\n",
        "train_data.class_indices"
      ],
      "outputs": [
        {
          "output_type": "stream",
          "name": "stdout",
          "text": [
            "Found 480 images belonging to 2 classes.\n",
            "Found 60 images belonging to 2 classes.\n",
            "Found 60 images belonging to 2 classes.\n"
          ]
        },
        {
          "output_type": "execute_result",
          "data": {
            "text/plain": [
              "{'flat.class': 0, 'full.class': 1}"
            ]
          },
          "metadata": {},
          "execution_count": 51
        }
      ],
      "metadata": {
        "id": "7PYNygIWBiML",
        "colab": {
          "base_uri": "https://localhost:8080/"
        },
        "outputId": "06f6c1b6-e5ed-47c2-a492-038c0c6c8aff"
      }
    },
    {
      "cell_type": "code",
      "execution_count": null,
      "source": [
        "conv_base = tf.keras.applications.VGG19(\n",
        "    include_top=False,\n",
        "    input_shape=(IMG_WIDTH, IMG_HEIGHT, 3),\n",
        "    weights='imagenet')\n",
        "\n",
        "for layer in conv_base.layers[:-1]:\n",
        "    layer.trainable = False\n",
        "\n",
        "x = conv_base.output\n",
        "x = layers.GlobalAveragePooling2D()(x)\n",
        "x = layers.Dense(64, activation='relu')(x) \n",
        "predictions = layers.Dense(CLASSES, activation='sigmoid')(x)\n",
        "model = Model(conv_base.input, predictions)\n",
        "\n",
        "model.compile(loss=tf.keras.losses.binary_crossentropy,\n",
        "              optimizer=tf.keras.optimizers.Adam(),\n",
        "              metrics=['accuracy', 'mse'])\n",
        "history = model.fit(\n",
        "    train_data,\n",
        "    validation_data=validation_data,\n",
        "    epochs=EPOCHS)\n",
        "\n",
        "\n",
        "\n",
        "predIdxs = model.predict(test_data)\n",
        "predIdxs = np.argmax(predIdxs, axis=1)\n",
        "\n",
        "print(classification_report(test_data.classes, predIdxs, target_names=test_data.class_indices.keys()))\n",
        "print(confusion_matrix(test_data.classes, predIdxs))"
      ],
      "outputs": [
        {
          "output_type": "stream",
          "name": "stderr",
          "text": [
            "/usr/local/lib/python3.7/dist-packages/keras/optimizer_v2/optimizer_v2.py:356: UserWarning: The `lr` argument is deprecated, use `learning_rate` instead.\n",
            "  \"The `lr` argument is deprecated, use `learning_rate` instead.\")\n"
          ]
        },
        {
          "output_type": "stream",
          "name": "stdout",
          "text": [
            "Model: \"sequential_11\"\n",
            "_________________________________________________________________\n",
            "Layer (type)                 Output Shape              Param #   \n",
            "=================================================================\n",
            "conv2d_44 (Conv2D)           (None, 240, 240, 16)      208       \n",
            "_________________________________________________________________\n",
            "max_pooling2d_36 (MaxPooling (None, 120, 120, 16)      0         \n",
            "_________________________________________________________________\n",
            "conv2d_45 (Conv2D)           (None, 120, 120, 16)      1040      \n",
            "_________________________________________________________________\n",
            "max_pooling2d_37 (MaxPooling (None, 60, 60, 16)        0         \n",
            "_________________________________________________________________\n",
            "conv2d_46 (Conv2D)           (None, 60, 60, 32)        2080      \n",
            "_________________________________________________________________\n",
            "max_pooling2d_38 (MaxPooling (None, 30, 30, 32)        0         \n",
            "_________________________________________________________________\n",
            "conv2d_47 (Conv2D)           (None, 30, 30, 32)        4128      \n",
            "_________________________________________________________________\n",
            "max_pooling2d_39 (MaxPooling (None, 15, 15, 32)        0         \n",
            "_________________________________________________________________\n",
            "flatten_11 (Flatten)         (None, 7200)              0         \n",
            "_________________________________________________________________\n",
            "dense_22 (Dense)             (None, 128)               921728    \n",
            "_________________________________________________________________\n",
            "dense_23 (Dense)             (None, 1)                 129       \n",
            "=================================================================\n",
            "Total params: 929,313\n",
            "Trainable params: 929,313\n",
            "Non-trainable params: 0\n",
            "_________________________________________________________________\n",
            "Epoch 1/30\n",
            "60/60 [==============================] - 10s 163ms/step - loss: 0.6937 - accuracy: 0.5000 - mse: 0.2503 - val_loss: 0.6952 - val_accuracy: 0.4833 - val_mse: 0.2510\n",
            "Epoch 2/30\n",
            "60/60 [==============================] - 10s 160ms/step - loss: 0.6926 - accuracy: 0.5000 - mse: 0.2497 - val_loss: 0.6951 - val_accuracy: 0.4833 - val_mse: 0.2510\n",
            "Epoch 3/30\n",
            "60/60 [==============================] - 10s 161ms/step - loss: 0.6923 - accuracy: 0.5021 - mse: 0.2496 - val_loss: 0.6951 - val_accuracy: 0.4833 - val_mse: 0.2510\n",
            "Epoch 4/30\n",
            "60/60 [==============================] - 10s 159ms/step - loss: 0.6925 - accuracy: 0.4958 - mse: 0.2497 - val_loss: 0.6951 - val_accuracy: 0.4833 - val_mse: 0.2510\n",
            "Epoch 5/30\n",
            "60/60 [==============================] - 10s 158ms/step - loss: 0.6940 - accuracy: 0.5042 - mse: 0.2504 - val_loss: 0.6951 - val_accuracy: 0.4833 - val_mse: 0.2510\n",
            "Epoch 6/30\n",
            "60/60 [==============================] - 10s 159ms/step - loss: 0.6927 - accuracy: 0.5000 - mse: 0.2498 - val_loss: 0.6951 - val_accuracy: 0.4833 - val_mse: 0.2510\n",
            "Epoch 7/30\n",
            "60/60 [==============================] - 10s 159ms/step - loss: 0.6939 - accuracy: 0.4979 - mse: 0.2504 - val_loss: 0.6951 - val_accuracy: 0.5167 - val_mse: 0.2510\n",
            "Epoch 8/30\n",
            "60/60 [==============================] - 10s 159ms/step - loss: 0.6939 - accuracy: 0.4833 - mse: 0.2504 - val_loss: 0.6951 - val_accuracy: 0.5000 - val_mse: 0.2510\n",
            "Epoch 9/30\n",
            "60/60 [==============================] - 10s 161ms/step - loss: 0.6938 - accuracy: 0.5104 - mse: 0.2503 - val_loss: 0.6950 - val_accuracy: 0.4833 - val_mse: 0.2509\n",
            "Epoch 10/30\n",
            "60/60 [==============================] - 10s 159ms/step - loss: 0.6940 - accuracy: 0.4979 - mse: 0.2504 - val_loss: 0.6950 - val_accuracy: 0.4667 - val_mse: 0.2509\n",
            "Epoch 11/30\n",
            "60/60 [==============================] - 10s 160ms/step - loss: 0.6931 - accuracy: 0.4938 - mse: 0.2500 - val_loss: 0.6950 - val_accuracy: 0.4667 - val_mse: 0.2509\n",
            "Epoch 12/30\n",
            "60/60 [==============================] - 10s 160ms/step - loss: 0.6941 - accuracy: 0.5021 - mse: 0.2505 - val_loss: 0.6950 - val_accuracy: 0.4667 - val_mse: 0.2509\n",
            "Epoch 13/30\n",
            "60/60 [==============================] - 10s 158ms/step - loss: 0.6938 - accuracy: 0.4854 - mse: 0.2503 - val_loss: 0.6949 - val_accuracy: 0.4667 - val_mse: 0.2509\n",
            "Epoch 14/30\n",
            "60/60 [==============================] - 10s 159ms/step - loss: 0.6935 - accuracy: 0.5000 - mse: 0.2502 - val_loss: 0.6949 - val_accuracy: 0.4500 - val_mse: 0.2509\n",
            "Epoch 15/30\n",
            "60/60 [==============================] - 10s 159ms/step - loss: 0.6937 - accuracy: 0.4938 - mse: 0.2503 - val_loss: 0.6949 - val_accuracy: 0.4333 - val_mse: 0.2509\n",
            "Epoch 16/30\n",
            "60/60 [==============================] - 10s 160ms/step - loss: 0.6930 - accuracy: 0.5021 - mse: 0.2499 - val_loss: 0.6949 - val_accuracy: 0.4167 - val_mse: 0.2509\n",
            "Epoch 17/30\n",
            "60/60 [==============================] - 10s 159ms/step - loss: 0.6933 - accuracy: 0.5104 - mse: 0.2501 - val_loss: 0.6949 - val_accuracy: 0.4500 - val_mse: 0.2509\n",
            "Epoch 18/30\n",
            "60/60 [==============================] - 10s 161ms/step - loss: 0.6933 - accuracy: 0.5104 - mse: 0.2501 - val_loss: 0.6949 - val_accuracy: 0.4500 - val_mse: 0.2509\n",
            "Epoch 19/30\n",
            "60/60 [==============================] - 10s 158ms/step - loss: 0.6938 - accuracy: 0.4917 - mse: 0.2503 - val_loss: 0.6949 - val_accuracy: 0.4667 - val_mse: 0.2509\n",
            "Epoch 20/30\n",
            "60/60 [==============================] - 10s 161ms/step - loss: 0.6939 - accuracy: 0.4917 - mse: 0.2504 - val_loss: 0.6948 - val_accuracy: 0.4667 - val_mse: 0.2508\n",
            "Epoch 21/30\n",
            "60/60 [==============================] - 10s 160ms/step - loss: 0.6934 - accuracy: 0.5188 - mse: 0.2501 - val_loss: 0.6948 - val_accuracy: 0.4333 - val_mse: 0.2508\n",
            "Epoch 22/30\n",
            "60/60 [==============================] - 10s 159ms/step - loss: 0.6943 - accuracy: 0.4958 - mse: 0.2506 - val_loss: 0.6948 - val_accuracy: 0.4333 - val_mse: 0.2508\n",
            "Epoch 23/30\n",
            "60/60 [==============================] - 10s 159ms/step - loss: 0.6933 - accuracy: 0.5125 - mse: 0.2501 - val_loss: 0.6948 - val_accuracy: 0.4667 - val_mse: 0.2508\n",
            "Epoch 24/30\n",
            "60/60 [==============================] - 10s 159ms/step - loss: 0.6927 - accuracy: 0.4917 - mse: 0.2498 - val_loss: 0.6948 - val_accuracy: 0.4667 - val_mse: 0.2508\n",
            "Epoch 25/30\n",
            "60/60 [==============================] - 10s 161ms/step - loss: 0.6933 - accuracy: 0.4833 - mse: 0.2501 - val_loss: 0.6948 - val_accuracy: 0.4833 - val_mse: 0.2508\n",
            "Epoch 26/30\n",
            "60/60 [==============================] - 9s 158ms/step - loss: 0.6929 - accuracy: 0.4792 - mse: 0.2499 - val_loss: 0.6948 - val_accuracy: 0.4667 - val_mse: 0.2508\n",
            "Epoch 27/30\n",
            "60/60 [==============================] - 10s 160ms/step - loss: 0.6935 - accuracy: 0.4875 - mse: 0.2502 - val_loss: 0.6948 - val_accuracy: 0.4667 - val_mse: 0.2508\n",
            "Epoch 28/30\n",
            "60/60 [==============================] - 10s 160ms/step - loss: 0.6934 - accuracy: 0.4833 - mse: 0.2501 - val_loss: 0.6948 - val_accuracy: 0.4500 - val_mse: 0.2508\n",
            "Epoch 29/30\n",
            "60/60 [==============================] - 10s 158ms/step - loss: 0.6940 - accuracy: 0.4729 - mse: 0.2504 - val_loss: 0.6947 - val_accuracy: 0.4333 - val_mse: 0.2508\n",
            "Epoch 30/30\n",
            "60/60 [==============================] - 10s 159ms/step - loss: 0.6928 - accuracy: 0.4875 - mse: 0.2498 - val_loss: 0.6947 - val_accuracy: 0.4500 - val_mse: 0.2508\n",
            "              precision    recall  f1-score   support\n",
            "\n",
            "  flat.class       0.50      1.00      0.67        30\n",
            "  full.class       0.00      0.00      0.00        30\n",
            "\n",
            "    accuracy                           0.50        60\n",
            "   macro avg       0.25      0.50      0.33        60\n",
            "weighted avg       0.25      0.50      0.33        60\n",
            "\n",
            "[[30  0]\n",
            " [30  0]]\n"
          ]
        },
        {
          "output_type": "stream",
          "name": "stderr",
          "text": [
            "/usr/local/lib/python3.7/dist-packages/sklearn/metrics/_classification.py:1272: UndefinedMetricWarning: Precision and F-score are ill-defined and being set to 0.0 in labels with no predicted samples. Use `zero_division` parameter to control this behavior.\n",
            "  _warn_prf(average, modifier, msg_start, len(result))\n"
          ]
        }
      ],
      "metadata": {
        "id": "9Xuqo5PpnwWi",
        "colab": {
          "base_uri": "https://localhost:8080/"
        },
        "outputId": "70597398-cac9-4453-f029-5223dc376446"
      }
    },
    {
      "cell_type": "code",
      "execution_count": null,
      "source": [
        "plt.rcParams[\"axes.labelweight\"] = \"bold\"\n",
        "plt.rcParams[\"font.weight\"] = \"bold\"\n",
        "\n",
        "font = {'size': 12.5}\n",
        "\n",
        "plt.rc('font', **font)\n",
        "\n",
        "acc = history.history['accuracy']\n",
        "val_acc = history.history['val_accuracy']\n",
        "\n",
        "loss = history.history['loss']\n",
        "val_loss = history.history['val_loss']\n",
        "epochs = range(1, EPOCHS + 1)\n",
        "\n",
        "plt.figure(figsize=(8, 8))\n",
        "\n",
        "plt.subplot(2, 1, 1)\n",
        "plt.plot(epochs, acc, label='Training Accuracy', color = 'green')\n",
        "plt.plot(epochs, val_acc, label='Validation Accuracy', color = 'orange')\n",
        "plt.gca().xaxis.set_major_locator(mticker.MultipleLocator(1))\n",
        "plt.legend(loc='lower right')\n",
        "plt.ylabel('Accuracy', fontsize=16)\n",
        "plt.ylim([min(plt.ylim()),1])\n",
        "plt.title('ResNet-50 Training and Validation Accuracy', pad=10,fontweight=\"bold\")\n",
        "plt.xlabel('Epoch', fontsize=16)\n",
        "plt.tight_layout()\n",
        "\n",
        "plt.subplot(2, 1, 2)  \n",
        "plt.plot(epochs, loss, label='Training Loss', color = 'red')\n",
        "plt.plot(epochs, val_loss, label='Validation Loss', color = 'blue')\n",
        "plt.gca().xaxis.set_major_locator(mticker.MultipleLocator(1))\n",
        "plt.legend(loc='upper right')\n",
        "plt.ylabel('Cross Entropy', fontsize=16)\n",
        "plt.ylim([0,1.0])\n",
        "plt.title('ResNet-50 Training and Validation Loss', pad=10, fontweight=\"bold\")\n",
        "plt.xlabel('Epoch', fontsize=16)\n",
        "plt.tight_layout()\n",
        "\n",
        "plt.subplots_adjust(left=0.1,\n",
        "                    bottom=0.1, \n",
        "                    right=0.9, \n",
        "                    top=0.9, \n",
        "                    wspace=0.4, \n",
        "                    hspace=0.5)\n",
        "                    \n",
        "plt.show()"
      ],
      "outputs": [],
      "metadata": {
        "id": "vNXSfxyJiFPH"
      }
    }
  ]
}